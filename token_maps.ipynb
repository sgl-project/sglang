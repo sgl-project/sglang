{
 "cells": [
  {
   "cell_type": "code",
   "execution_count": 4,
   "id": "b95d3508",
   "metadata": {},
   "outputs": [
    {
     "name": "stdout",
     "output_type": "stream",
     "text": [
      "Type: <class 'list'>\n",
      "Length: 32768\n",
      "First 10 elements: [0, 1, 2, 3, 4, 5, 6, 7, 8, 9]\n",
      "Last 10 elements: [122098, 123282, 124232, 125341, 126029, 126058, 126437, 126459, 128000, 128009]\n",
      "All elements are integers: True\n",
      "Min value: 0\n",
      "Max value: 128009\n",
      "Number of unique values: 32768\n",
      "Is the sequence contiguous? False\n",
      "Missing values in range: 95242 out of 128010\n",
      "Is the sequence sorted? True\n"
     ]
    }
   ],
   "source": [
    "import torch\n",
    "from huggingface_hub import hf_hub_download\n",
    "\n",
    "# Download the tensor from huggingface hub\n",
    "file_path = hf_hub_download(\n",
    "    repo_id=\"thunlp/LLaMA3-Instruct-8B-FR-Spec\",\n",
    "    filename=\"freq_32768.pt\"\n",
    ")\n",
    "\n",
    "# Load the tensor\n",
    "tensor = torch.load(file_path, map_location='cpu')\n",
    "tensor\n",
    "\n",
    "# Verify what type of object this is\n",
    "print(f\"Type: {type(tensor)}\")\n",
    "print(f\"Length: {len(tensor)}\")\n",
    "print(f\"First 10 elements: {tensor[:10]}\")\n",
    "print(f\"Last 10 elements: {tensor[-10:]}\")\n",
    "\n",
    "# Check if all elements are integers\n",
    "print(f\"All elements are integers: {all(isinstance(x, int) for x in tensor)}\")\n",
    "\n",
    "# Get some statistics\n",
    "print(f\"Min value: {min(tensor)}\")\n",
    "print(f\"Max value: {max(tensor)}\")\n",
    "print(f\"Number of unique values: {len(set(tensor))}\")\n",
    "\n",
    "# Check if the sequence is contiguous\n",
    "is_contiguous = tensor == list(range(min(tensor), max(tensor) + 1))\n",
    "print(f\"Is the sequence contiguous? {is_contiguous}\")\n",
    "\n",
    "# Check if it's a contiguous sequence or has gaps\n",
    "tensor_set = set(tensor)\n",
    "expected_range = set(range(min(tensor), max(tensor) + 1))\n",
    "missing_values = expected_range - tensor_set\n",
    "print(f\"Missing values in range: {len(missing_values)} out of {len(expected_range)}\")\n",
    "if len(missing_values) <= 20:  # Only show if not too many\n",
    "    print(f\"Some missing values: {sorted(list(missing_values))[:20]}\")\n",
    "\n",
    "# Check if the sequence is sorted\n",
    "is_sorted = tensor == sorted(tensor)\n",
    "print(f\"Is the sequence sorted? {is_sorted}\")"
   ]
  }
 ],
 "metadata": {
  "kernelspec": {
   "display_name": "Python 3",
   "language": "python",
   "name": "python3"
  },
  "language_info": {
   "codemirror_mode": {
    "name": "ipython",
    "version": 3
   },
   "file_extension": ".py",
   "mimetype": "text/x-python",
   "name": "python",
   "nbconvert_exporter": "python",
   "pygments_lexer": "ipython3",
   "version": "3.10.18"
  }
 },
 "nbformat": 4,
 "nbformat_minor": 5
}
